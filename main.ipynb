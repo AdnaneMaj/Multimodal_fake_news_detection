{
 "cells": [
  {
   "cell_type": "markdown",
   "metadata": {},
   "source": [
    "### DATA"
   ]
  },
  {
   "cell_type": "code",
   "execution_count": 1,
   "metadata": {},
   "outputs": [
    {
     "name": "stderr",
     "output_type": "stream",
     "text": [
      "/home/hp/anaconda3/envs/GNN_project/lib/python3.9/site-packages/tqdm/auto.py:21: TqdmWarning: IProgress not found. Please update jupyter and ipywidgets. See https://ipywidgets.readthedocs.io/en/stable/user_install.html\n",
      "  from .autonotebook import tqdm as notebook_tqdm\n"
     ]
    }
   ],
   "source": [
    "#Process the raw PHEME data set\n",
    "\n",
    "from src.utils import DatasetCreator\n",
    "\n",
    "dataset_creator = DatasetCreator()\n"
   ]
  },
  {
   "cell_type": "code",
   "execution_count": 2,
   "metadata": {},
   "outputs": [],
   "source": [
    "data_example = dataset_creator.get_dataframe()"
   ]
  },
  {
   "cell_type": "code",
   "execution_count": 3,
   "metadata": {},
   "outputs": [
    {
     "data": {
      "text/html": [
       "<div>\n",
       "<style scoped>\n",
       "    .dataframe tbody tr th:only-of-type {\n",
       "        vertical-align: middle;\n",
       "    }\n",
       "\n",
       "    .dataframe tbody tr th {\n",
       "        vertical-align: top;\n",
       "    }\n",
       "\n",
       "    .dataframe thead th {\n",
       "        text-align: right;\n",
       "    }\n",
       "</style>\n",
       "<table border=\"1\" class=\"dataframe\">\n",
       "  <thead>\n",
       "    <tr style=\"text-align: right;\">\n",
       "      <th></th>\n",
       "      <th>id_post</th>\n",
       "      <th>class</th>\n",
       "      <th>subject</th>\n",
       "      <th>text</th>\n",
       "      <th>Media_url</th>\n",
       "    </tr>\n",
       "  </thead>\n",
       "  <tbody>\n",
       "    <tr>\n",
       "      <th>0</th>\n",
       "      <td>500388199064420352</td>\n",
       "      <td>0</td>\n",
       "      <td>ferguson-all-rnr-threads</td>\n",
       "      <td>Hard to believe this guy assaulted a cop. 😂😂😂 ...</td>\n",
       "      <td>http://pbs.twimg.com/media/BvG8ak6IQAAE2zx.jpg</td>\n",
       "    </tr>\n",
       "    <tr>\n",
       "      <th>1</th>\n",
       "      <td>500306187624407040</td>\n",
       "      <td>0</td>\n",
       "      <td>ferguson-all-rnr-threads</td>\n",
       "      <td>The day #Ferguson cops beat a man and charged ...</td>\n",
       "      <td>http://pbs.twimg.com/media/BvFrRW0CUAIN9JE.jpg</td>\n",
       "    </tr>\n",
       "    <tr>\n",
       "      <th>2</th>\n",
       "      <td>500413818368184321</td>\n",
       "      <td>0</td>\n",
       "      <td>ferguson-all-rnr-threads</td>\n",
       "      <td>Remarkably, despite the military-style police ...</td>\n",
       "      <td>NaN</td>\n",
       "    </tr>\n",
       "    <tr>\n",
       "      <th>3</th>\n",
       "      <td>500292426154528770</td>\n",
       "      <td>0</td>\n",
       "      <td>ferguson-all-rnr-threads</td>\n",
       "      <td>If Mike Brown was engaged in a robbery before ...</td>\n",
       "      <td>NaN</td>\n",
       "    </tr>\n",
       "    <tr>\n",
       "      <th>4</th>\n",
       "      <td>500360889347096576</td>\n",
       "      <td>0</td>\n",
       "      <td>ferguson-all-rnr-threads</td>\n",
       "      <td>so ... they clearly released that video  only ...</td>\n",
       "      <td>NaN</td>\n",
       "    </tr>\n",
       "    <tr>\n",
       "      <th>5</th>\n",
       "      <td>500289307257868288</td>\n",
       "      <td>0</td>\n",
       "      <td>ferguson-all-rnr-threads</td>\n",
       "      <td>The selective release of information by #Fergu...</td>\n",
       "      <td>NaN</td>\n",
       "    </tr>\n",
       "    <tr>\n",
       "      <th>6</th>\n",
       "      <td>500309222635360256</td>\n",
       "      <td>0</td>\n",
       "      <td>ferguson-all-rnr-threads</td>\n",
       "      <td>Every incident report I've seen says \"the susp...</td>\n",
       "      <td>NaN</td>\n",
       "    </tr>\n",
       "    <tr>\n",
       "      <th>7</th>\n",
       "      <td>500375190535421953</td>\n",
       "      <td>0</td>\n",
       "      <td>ferguson-all-rnr-threads</td>\n",
       "      <td>If anyone's looking for a reason to murder me ...</td>\n",
       "      <td>NaN</td>\n",
       "    </tr>\n",
       "    <tr>\n",
       "      <th>8</th>\n",
       "      <td>499404849835175938</td>\n",
       "      <td>0</td>\n",
       "      <td>ferguson-all-rnr-threads</td>\n",
       "      <td>#Ferguson is completely shut down. No journali...</td>\n",
       "      <td>NaN</td>\n",
       "    </tr>\n",
       "    <tr>\n",
       "      <th>9</th>\n",
       "      <td>500366333461422080</td>\n",
       "      <td>0</td>\n",
       "      <td>ferguson-all-rnr-threads</td>\n",
       "      <td>#Ferguson police chief says officer Darren Wil...</td>\n",
       "      <td>NaN</td>\n",
       "    </tr>\n",
       "    <tr>\n",
       "      <th>10</th>\n",
       "      <td>500279160795721728</td>\n",
       "      <td>0</td>\n",
       "      <td>ferguson-all-rnr-threads</td>\n",
       "      <td>Question for #Ferguson police chief? If OFFICE...</td>\n",
       "      <td>NaN</td>\n",
       "    </tr>\n",
       "    <tr>\n",
       "      <th>11</th>\n",
       "      <td>500283877567770624</td>\n",
       "      <td>0</td>\n",
       "      <td>ferguson-all-rnr-threads</td>\n",
       "      <td>#Ferguson police say Michael Brown fit descrip...</td>\n",
       "      <td>NaN</td>\n",
       "    </tr>\n",
       "    <tr>\n",
       "      <th>12</th>\n",
       "      <td>500258409988763649</td>\n",
       "      <td>0</td>\n",
       "      <td>ferguson-all-rnr-threads</td>\n",
       "      <td>Name of #Ferguson cop is expected to be releas...</td>\n",
       "      <td>http://pbs.twimg.com/media/BvFGX38IUAAzoNy.jpg</td>\n",
       "    </tr>\n",
       "    <tr>\n",
       "      <th>13</th>\n",
       "      <td>500357713260724224</td>\n",
       "      <td>0</td>\n",
       "      <td>ferguson-all-rnr-threads</td>\n",
       "      <td>ICYMI: The info given today seems to line up w...</td>\n",
       "      <td>NaN</td>\n",
       "    </tr>\n",
       "  </tbody>\n",
       "</table>\n",
       "</div>"
      ],
      "text/plain": [
       "               id_post  class                   subject  \\\n",
       "0   500388199064420352      0  ferguson-all-rnr-threads   \n",
       "1   500306187624407040      0  ferguson-all-rnr-threads   \n",
       "2   500413818368184321      0  ferguson-all-rnr-threads   \n",
       "3   500292426154528770      0  ferguson-all-rnr-threads   \n",
       "4   500360889347096576      0  ferguson-all-rnr-threads   \n",
       "5   500289307257868288      0  ferguson-all-rnr-threads   \n",
       "6   500309222635360256      0  ferguson-all-rnr-threads   \n",
       "7   500375190535421953      0  ferguson-all-rnr-threads   \n",
       "8   499404849835175938      0  ferguson-all-rnr-threads   \n",
       "9   500366333461422080      0  ferguson-all-rnr-threads   \n",
       "10  500279160795721728      0  ferguson-all-rnr-threads   \n",
       "11  500283877567770624      0  ferguson-all-rnr-threads   \n",
       "12  500258409988763649      0  ferguson-all-rnr-threads   \n",
       "13  500357713260724224      0  ferguson-all-rnr-threads   \n",
       "\n",
       "                                                 text  \\\n",
       "0   Hard to believe this guy assaulted a cop. 😂😂😂 ...   \n",
       "1   The day #Ferguson cops beat a man and charged ...   \n",
       "2   Remarkably, despite the military-style police ...   \n",
       "3   If Mike Brown was engaged in a robbery before ...   \n",
       "4   so ... they clearly released that video  only ...   \n",
       "5   The selective release of information by #Fergu...   \n",
       "6   Every incident report I've seen says \"the susp...   \n",
       "7   If anyone's looking for a reason to murder me ...   \n",
       "8   #Ferguson is completely shut down. No journali...   \n",
       "9   #Ferguson police chief says officer Darren Wil...   \n",
       "10  Question for #Ferguson police chief? If OFFICE...   \n",
       "11  #Ferguson police say Michael Brown fit descrip...   \n",
       "12  Name of #Ferguson cop is expected to be releas...   \n",
       "13  ICYMI: The info given today seems to line up w...   \n",
       "\n",
       "                                         Media_url  \n",
       "0   http://pbs.twimg.com/media/BvG8ak6IQAAE2zx.jpg  \n",
       "1   http://pbs.twimg.com/media/BvFrRW0CUAIN9JE.jpg  \n",
       "2                                              NaN  \n",
       "3                                              NaN  \n",
       "4                                              NaN  \n",
       "5                                              NaN  \n",
       "6                                              NaN  \n",
       "7                                              NaN  \n",
       "8                                              NaN  \n",
       "9                                              NaN  \n",
       "10                                             NaN  \n",
       "11                                             NaN  \n",
       "12  http://pbs.twimg.com/media/BvFGX38IUAAzoNy.jpg  \n",
       "13                                             NaN  "
      ]
     },
     "execution_count": 3,
     "metadata": {},
     "output_type": "execute_result"
    }
   ],
   "source": [
    "data_example"
   ]
  },
  {
   "cell_type": "markdown",
   "metadata": {},
   "source": [
    "### PMIGraphConstructor"
   ]
  },
  {
   "cell_type": "code",
   "execution_count": 4,
   "metadata": {},
   "outputs": [],
   "source": [
    "from src.utils import GraphConstructor"
   ]
  },
  {
   "cell_type": "code",
   "execution_count": 5,
   "metadata": {},
   "outputs": [],
   "source": [
    "graph_constructor = GraphConstructor(window_size=5)"
   ]
  },
  {
   "cell_type": "code",
   "execution_count": 6,
   "metadata": {},
   "outputs": [],
   "source": [
    "first_row = data_example.iloc[0]\n",
    "graph = graph_constructor.construct_graph(row=first_row)"
   ]
  },
  {
   "cell_type": "code",
   "execution_count": 7,
   "metadata": {},
   "outputs": [
    {
     "data": {
      "text/plain": [
       "'Hard to believe this guy assaulted a cop. 😂😂😂 \\n\\n#Ferguson http://t.co/J86VLXnZF6'"
      ]
     },
     "execution_count": 7,
     "metadata": {},
     "output_type": "execute_result"
    }
   ],
   "source": [
    "first_row.text"
   ]
  },
  {
   "cell_type": "code",
   "execution_count": 8,
   "metadata": {},
   "outputs": [
    {
     "data": {
      "text/plain": [
       "(768,)"
      ]
     },
     "execution_count": 8,
     "metadata": {},
     "output_type": "execute_result"
    }
   ],
   "source": [
    "graph.nodes['to']['embedding'].shape"
   ]
  },
  {
   "cell_type": "code",
   "execution_count": 9,
   "metadata": {},
   "outputs": [
    {
     "data": {
      "text/plain": [
       "{'class': 0, 'subject': 'ferguson-all-rnr-threads'}"
      ]
     },
     "execution_count": 9,
     "metadata": {},
     "output_type": "execute_result"
    }
   ],
   "source": [
    "graph.graph"
   ]
  },
  {
   "cell_type": "code",
   "execution_count": 10,
   "metadata": {},
   "outputs": [
    {
     "data": {
      "image/png": "[encoded data removed]",
      "text/plain": [
       "<Figure size 1000x600 with 1 Axes>"
      ]
     },
     "metadata": {},
     "output_type": "display_data"
    }
   ],
   "source": [
    "graph_constructor.visualize_graph(graph)"
   ]
  },
  {
   "cell_type": "code",
   "execution_count": null,
   "metadata": {},
   "outputs": [],
   "source": [
    "import os\n",
    "import torch\n",
    "from torch_geometric.data import Dataset, Data\n",
    "from typing import Optional, Callable, List\n",
    "\n",
    "from src.utils.graph_utils import GraphConstructor\n",
    "\n",
    "class PHEMEDataset(Dataset):\n",
    "    def __init__(\n",
    "        self,\n",
    "        root: str,\n",
    "        transform: Optional[Callable] = None,\n",
    "        pre_transform: Optional[Callable] = None,\n",
    "        pre_filter: Optional[Callable] = None\n",
    "    ):\n",
    "        \"\"\"\n",
    "        Initialize the PHEME dataset.\n",
    "        \n",
    "        Args:\n",
    "            root (str): Root directory of the dataset\n",
    "            transform (callable, optional): A function/transform that takes in a Data object and returns a transformed version\n",
    "            pre_transform (callable, optional): A function/transform to be applied before saving\n",
    "            pre_filter (callable, optional): A function that takes in a Data object and returns True if the object should be included\n",
    "        \"\"\"\n",
    "        self.graph_constructor = GraphConstructor()\n",
    "        super().__init__(root, transform, pre_transform, pre_filter)\n",
    "\n",
    "    @property\n",
    "    def raw_file_names(self):\n",
    "        return []\n",
    "\n",
    "    @property\n",
    "    def processed_file_names(self):\n",
    "        return [\"graphs\"]\n",
    "\n",
    "    def download(self):\n",
    "        pass\n",
    "\n",
    "    def process(self):\n",
    "        \"\"\"\n",
    "        Process raw data into PyG Data objects.\n",
    "        \"\"\"\n",
    "        # Construct PyG graphs using graph constructor\n",
    "        data_list = self.graph_constructor.construct_pyg_graphs()\n",
    "        self.data_list = data_list\n",
    "\n",
    "        #Save the data list\n",
    "        torch.save(data_list, self.processed_paths[0])\n",
    "\n",
    "    def len(self) -> int:\n",
    "        return len(self.graph_constructor.data.df)\n",
    "\n",
    "    def get(self, idx: int) -> Data:\n",
    "        if not self.data_list:\n",
    "            data_path = self.processed_paths[0]\n",
    "            if not os.path.exists(data_path):\n",
    "                raise ValueError(\"Processed data not found. Run process() first.\")\n",
    "            self.data_list = torch.load(data_path)\n",
    "        \n",
    "        return self.data_list[idx]"
   ]
  },
  {
   "cell_type": "code",
   "execution_count": 7,
   "metadata": {},
   "outputs": [
    {
     "name": "stderr",
     "output_type": "stream",
     "text": [
      "Processing...\n",
      "Constructing nx graphs :: 14it [00:03,  3.58it/s]\n",
      "Converting nx graph to pyg graphs: 100%|██████████| 14/14 [00:00<00:00, 814.51it/s]\n"
     ]
    },
    {
     "ename": "IndexError",
     "evalue": "list index out of range",
     "output_type": "error",
     "traceback": [
      "\u001b[0;31m---------------------------------------------------------------------------\u001b[0m",
      "\u001b[0;31mIndexError\u001b[0m                                Traceback (most recent call last)",
      "Cell \u001b[0;32mIn[7], line 1\u001b[0m\n\u001b[0;32m----> 1\u001b[0m dataset \u001b[38;5;241m=\u001b[39m \u001b[43mPHEMEDataset\u001b[49m\u001b[43m(\u001b[49m\u001b[38;5;124;43m\"\u001b[39;49m\u001b[38;5;124;43mdata\u001b[39;49m\u001b[38;5;124;43m\"\u001b[39;49m\u001b[43m)\u001b[49m\n",
      "Cell \u001b[0;32mIn[6], line 26\u001b[0m, in \u001b[0;36mPHEMEDataset.__init__\u001b[0;34m(self, root, transform, pre_transform, pre_filter)\u001b[0m\n\u001b[1;32m     16\u001b[0m \u001b[38;5;250m\u001b[39m\u001b[38;5;124;03m\"\"\"\u001b[39;00m\n\u001b[1;32m     17\u001b[0m \u001b[38;5;124;03mInitialize the PHEME dataset.\u001b[39;00m\n\u001b[1;32m     18\u001b[0m \u001b[38;5;124;03m\u001b[39;00m\n\u001b[0;32m   (...)\u001b[0m\n\u001b[1;32m     23\u001b[0m \u001b[38;5;124;03m    pre_filter (callable, optional): A function that takes in a Data object and returns True if the object should be included\u001b[39;00m\n\u001b[1;32m     24\u001b[0m \u001b[38;5;124;03m\"\"\"\u001b[39;00m\n\u001b[1;32m     25\u001b[0m \u001b[38;5;28mself\u001b[39m\u001b[38;5;241m.\u001b[39mgraph_constructor \u001b[38;5;241m=\u001b[39m GraphConstructor()\n\u001b[0;32m---> 26\u001b[0m \u001b[38;5;28;43msuper\u001b[39;49m\u001b[43m(\u001b[49m\u001b[43m)\u001b[49m\u001b[38;5;241;43m.\u001b[39;49m\u001b[38;5;21;43m__init__\u001b[39;49m\u001b[43m(\u001b[49m\u001b[43mroot\u001b[49m\u001b[43m,\u001b[49m\u001b[43m \u001b[49m\u001b[43mtransform\u001b[49m\u001b[43m,\u001b[49m\u001b[43m \u001b[49m\u001b[43mpre_transform\u001b[49m\u001b[43m,\u001b[49m\u001b[43m \u001b[49m\u001b[43mpre_filter\u001b[49m\u001b[43m)\u001b[49m\n",
      "File \u001b[0;32m~/anaconda3/envs/GNN_project/lib/python3.9/site-packages/torch_geometric/data/dataset.py:115\u001b[0m, in \u001b[0;36mDataset.__init__\u001b[0;34m(self, root, transform, pre_transform, pre_filter, log, force_reload)\u001b[0m\n\u001b[1;32m    112\u001b[0m     \u001b[38;5;28mself\u001b[39m\u001b[38;5;241m.\u001b[39m_download()\n\u001b[1;32m    114\u001b[0m \u001b[38;5;28;01mif\u001b[39;00m \u001b[38;5;28mself\u001b[39m\u001b[38;5;241m.\u001b[39mhas_process:\n\u001b[0;32m--> 115\u001b[0m     \u001b[38;5;28;43mself\u001b[39;49m\u001b[38;5;241;43m.\u001b[39;49m\u001b[43m_process\u001b[49m\u001b[43m(\u001b[49m\u001b[43m)\u001b[49m\n",
      "File \u001b[0;32m~/anaconda3/envs/GNN_project/lib/python3.9/site-packages/torch_geometric/data/dataset.py:260\u001b[0m, in \u001b[0;36mDataset._process\u001b[0;34m(self)\u001b[0m\n\u001b[1;32m    257\u001b[0m     \u001b[38;5;28mprint\u001b[39m(\u001b[38;5;124m'\u001b[39m\u001b[38;5;124mProcessing...\u001b[39m\u001b[38;5;124m'\u001b[39m, file\u001b[38;5;241m=\u001b[39msys\u001b[38;5;241m.\u001b[39mstderr)\n\u001b[1;32m    259\u001b[0m fs\u001b[38;5;241m.\u001b[39mmakedirs(\u001b[38;5;28mself\u001b[39m\u001b[38;5;241m.\u001b[39mprocessed_dir, exist_ok\u001b[38;5;241m=\u001b[39m\u001b[38;5;28;01mTrue\u001b[39;00m)\n\u001b[0;32m--> 260\u001b[0m \u001b[38;5;28;43mself\u001b[39;49m\u001b[38;5;241;43m.\u001b[39;49m\u001b[43mprocess\u001b[49m\u001b[43m(\u001b[49m\u001b[43m)\u001b[49m\n\u001b[1;32m    262\u001b[0m path \u001b[38;5;241m=\u001b[39m osp\u001b[38;5;241m.\u001b[39mjoin(\u001b[38;5;28mself\u001b[39m\u001b[38;5;241m.\u001b[39mprocessed_dir, \u001b[38;5;124m'\u001b[39m\u001b[38;5;124mpre_transform.pt\u001b[39m\u001b[38;5;124m'\u001b[39m)\n\u001b[1;32m    263\u001b[0m fs\u001b[38;5;241m.\u001b[39mtorch_save(_repr(\u001b[38;5;28mself\u001b[39m\u001b[38;5;241m.\u001b[39mpre_transform), path)\n",
      "Cell \u001b[0;32mIn[6], line 48\u001b[0m, in \u001b[0;36mPHEMEDataset.process\u001b[0;34m(self)\u001b[0m\n\u001b[1;32m     45\u001b[0m \u001b[38;5;28mself\u001b[39m\u001b[38;5;241m.\u001b[39mdata_list \u001b[38;5;241m=\u001b[39m data_list\n\u001b[1;32m     47\u001b[0m \u001b[38;5;66;03m#Save the data list\u001b[39;00m\n\u001b[0;32m---> 48\u001b[0m torch\u001b[38;5;241m.\u001b[39msave(data_list, \u001b[38;5;28;43mself\u001b[39;49m\u001b[38;5;241;43m.\u001b[39;49m\u001b[43mprocessed_paths\u001b[49m\u001b[43m[\u001b[49m\u001b[38;5;241;43m0\u001b[39;49m\u001b[43m]\u001b[49m)\n",
      "\u001b[0;31mIndexError\u001b[0m: list index out of range"
     ]
    }
   ],
   "source": [
    "dataset = PHEMEDataset(\"data\")"
   ]
  },
  {
   "cell_type": "code",
   "execution_count": null,
   "metadata": {},
   "outputs": [
    {
     "data": {
      "text/plain": [
       "Data(edge_index=[2, 42], class=0, subject='ferguson-all-rnr-threads', x=[10, 768], edge_attr=[42, 1], y=0)"
      ]
     },
     "execution_count": 35,
     "metadata": {},
     "output_type": "execute_result"
    }
   ],
   "source": [
    "dataset.get(0)"
   ]
  },
  {
   "cell_type": "code",
   "execution_count": null,
   "metadata": {},
   "outputs": [],
   "source": []
  }
 ],
 "metadata": {
  "kernelspec": {
   "display_name": "GNN_project",
   "language": "python",
   "name": "python3"
  },
  "language_info": {
   "codemirror_mode": {
    "name": "ipython",
    "version": 3
   },
   "file_extension": ".py",
   "mimetype": "text/x-python",
   "name": "python",
   "nbconvert_exporter": "python",
   "pygments_lexer": "ipython3",
   "version": "3.9.20"
  }
 },
 "nbformat": 4,
 "nbformat_minor": 2
}
